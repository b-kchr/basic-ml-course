{
  "nbformat": 4,
  "nbformat_minor": 0,
  "metadata": {
    "colab": {
      "provenance": [],
      "authorship_tag": "ABX9TyNIWuqnCHevN/HeJx/0zLs/",
      "include_colab_link": true
    },
    "kernelspec": {
      "name": "python3",
      "display_name": "Python 3"
    },
    "language_info": {
      "name": "python"
    }
  },
  "cells": [
    {
      "cell_type": "markdown",
      "metadata": {
        "id": "view-in-github",
        "colab_type": "text"
      },
      "source": [
        "<a href=\"https://colab.research.google.com/github/b-kchr/basic-ml-course/blob/master/05_Naive_Bayes/Solution_for_Lesson_05.ipynb\" target=\"_parent\"><img src=\"https://colab.research.google.com/assets/colab-badge.svg\" alt=\"Open In Colab\"/></a>"
      ]
    },
    {
      "cell_type": "code",
      "execution_count": 1,
      "metadata": {
        "id": "Beh_P0ZamdYU"
      },
      "outputs": [],
      "source": [
        "from sklearn.datasets import fetch_20newsgroups\n",
        "newsgroups_train = fetch_20newsgroups(subset='train')\n",
        "newsgroups_test = fetch_20newsgroups(subset='test')"
      ]
    },
    {
      "cell_type": "code",
      "source": [
        "len(newsgroups_train.data)"
      ],
      "metadata": {
        "colab": {
          "base_uri": "https://localhost:8080/"
        },
        "id": "hxsJVM4lm0No",
        "outputId": "c3dd973a-34cc-4daf-bdf1-c032b4539754"
      },
      "execution_count": 2,
      "outputs": [
        {
          "output_type": "execute_result",
          "data": {
            "text/plain": [
              "11314"
            ]
          },
          "metadata": {},
          "execution_count": 2
        }
      ]
    },
    {
      "cell_type": "code",
      "source": [
        "newsgroups_train.target, newsgroups_train.target_names"
      ],
      "metadata": {
        "colab": {
          "base_uri": "https://localhost:8080/"
        },
        "id": "4ruAG7iYm8Ej",
        "outputId": "e30eb91b-db37-42c6-811d-f90fff782648"
      },
      "execution_count": 3,
      "outputs": [
        {
          "output_type": "execute_result",
          "data": {
            "text/plain": [
              "(array([7, 4, 4, ..., 3, 1, 8]),\n",
              " ['alt.atheism',\n",
              "  'comp.graphics',\n",
              "  'comp.os.ms-windows.misc',\n",
              "  'comp.sys.ibm.pc.hardware',\n",
              "  'comp.sys.mac.hardware',\n",
              "  'comp.windows.x',\n",
              "  'misc.forsale',\n",
              "  'rec.autos',\n",
              "  'rec.motorcycles',\n",
              "  'rec.sport.baseball',\n",
              "  'rec.sport.hockey',\n",
              "  'sci.crypt',\n",
              "  'sci.electronics',\n",
              "  'sci.med',\n",
              "  'sci.space',\n",
              "  'soc.religion.christian',\n",
              "  'talk.politics.guns',\n",
              "  'talk.politics.mideast',\n",
              "  'talk.politics.misc',\n",
              "  'talk.religion.misc'])"
            ]
          },
          "metadata": {},
          "execution_count": 3
        }
      ]
    },
    {
      "cell_type": "code",
      "source": [
        "newsgroups_train.data[0]"
      ],
      "metadata": {
        "colab": {
          "base_uri": "https://localhost:8080/",
          "height": 105
        },
        "id": "cla7OgzOnD7x",
        "outputId": "d57a0b2b-3986-4741-abc7-bcca4103d77c"
      },
      "execution_count": 4,
      "outputs": [
        {
          "output_type": "execute_result",
          "data": {
            "text/plain": [
              "\"From: lerxst@wam.umd.edu (where's my thing)\\nSubject: WHAT car is this!?\\nNntp-Posting-Host: rac3.wam.umd.edu\\nOrganization: University of Maryland, College Park\\nLines: 15\\n\\n I was wondering if anyone out there could enlighten me on this car I saw\\nthe other day. It was a 2-door sports car, looked to be from the late 60s/\\nearly 70s. It was called a Bricklin. The doors were really small. In addition,\\nthe front bumper was separate from the rest of the body. This is \\nall I know. If anyone can tellme a model name, engine specs, years\\nof production, where this car is made, history, or whatever info you\\nhave on this funky looking car, please e-mail.\\n\\nThanks,\\n- IL\\n   ---- brought to you by your neighborhood Lerxst ----\\n\\n\\n\\n\\n\""
            ],
            "application/vnd.google.colaboratory.intrinsic+json": {
              "type": "string"
            }
          },
          "metadata": {},
          "execution_count": 4
        }
      ]
    },
    {
      "cell_type": "code",
      "source": [
        "def remove_tokens(token_list, text):\n",
        "    for token in token_list:\n",
        "        text = text.replace(token, '')\n",
        "    return text"
      ],
      "metadata": {
        "id": "-2o5ZGIznKt5"
      },
      "execution_count": 5,
      "outputs": []
    },
    {
      "cell_type": "code",
      "source": [
        "from string import punctuation\n",
        "preprocessed_text = [remove_tokens(punctuation, text) for text in newsgroups_train.data]"
      ],
      "metadata": {
        "id": "lTHODc65nSNq"
      },
      "execution_count": 6,
      "outputs": []
    },
    {
      "cell_type": "code",
      "source": [
        "from sklearn.feature_extraction.text import CountVectorizer\n",
        "num_word = 30000\n",
        "vectorizer = CountVectorizer(max_features=num_word)\n",
        "train_data = vectorizer.fit_transform(preprocessed_text).toarray()\n",
        "train_data.shape"
      ],
      "metadata": {
        "colab": {
          "base_uri": "https://localhost:8080/"
        },
        "id": "6RW-F1VKnXNX",
        "outputId": "9126ca6d-ba3a-4da1-d6a0-fbcf7b21376b"
      },
      "execution_count": 7,
      "outputs": [
        {
          "output_type": "execute_result",
          "data": {
            "text/plain": [
              "(11314, 30000)"
            ]
          },
          "metadata": {},
          "execution_count": 7
        }
      ]
    },
    {
      "cell_type": "code",
      "source": [
        "import numpy as np\n",
        "classes,class_freq = np.unique(newsgroups_train.target,return_counts=True)\n",
        "prior_prob = class_freq/np.sum(class_freq)\n",
        "np.sum(prior_prob)"
      ],
      "metadata": {
        "colab": {
          "base_uri": "https://localhost:8080/"
        },
        "id": "e6UDlxOeaYQs",
        "outputId": "2e23d621-9baf-4d5f-e723-43dbe1a164bb"
      },
      "execution_count": 8,
      "outputs": [
        {
          "output_type": "execute_result",
          "data": {
            "text/plain": [
              "1.0"
            ]
          },
          "metadata": {},
          "execution_count": 8
        }
      ]
    },
    {
      "cell_type": "code",
      "source": [
        "word_label_frequency = np.zeros((len(newsgroups_train.target_names),train_data.shape[1]))\n",
        "\n",
        "for i in range(len(newsgroups_train.target)):\n",
        "  word_label_frequency[newsgroups_train.target[i]] += train_data[i].clip(max=1)\n",
        "\n",
        "word_label_frequency"
      ],
      "metadata": {
        "colab": {
          "base_uri": "https://localhost:8080/"
        },
        "id": "O25tGw4obrm8",
        "outputId": "d238f090-1d80-4491-842e-9ac8e50a27d4"
      },
      "execution_count": 9,
      "outputs": [
        {
          "output_type": "execute_result",
          "data": {
            "text/plain": [
              "array([[ 0.,  0.,  0., ...,  0.,  0.,  0.],\n",
              "       [ 5.,  0.,  0., ..., 10.,  2.,  1.],\n",
              "       [ 2.,  0.,  1., ...,  0.,  0.,  0.],\n",
              "       ...,\n",
              "       [ 0.,  4.,  1., ...,  0.,  0.,  0.],\n",
              "       [ 1.,  0.,  0., ...,  0.,  0.,  0.],\n",
              "       [ 0.,  0.,  0., ...,  0.,  0.,  0.]])"
            ]
          },
          "metadata": {},
          "execution_count": 9
        }
      ]
    },
    {
      "cell_type": "code",
      "source": [
        "alpha = 0.01\n",
        "cond_prob = np.array([(word_label_frequency[i] + alpha)/(class_freq[i] + num_word * alpha) for i in range(len(class_freq))])\n",
        "print(cond_prob.shape)"
      ],
      "metadata": {
        "colab": {
          "base_uri": "https://localhost:8080/"
        },
        "id": "C6amygEzcQQC",
        "outputId": "32098e43-8998-41d6-c6cd-093e3cfa78d4"
      },
      "execution_count": 10,
      "outputs": [
        {
          "output_type": "stream",
          "name": "stdout",
          "text": [
            "(20, 30000)\n"
          ]
        }
      ]
    },
    {
      "cell_type": "code",
      "source": [
        "def find_label(data):\n",
        "  data = np.array(data.toarray()).flatten()\n",
        "  indices = np.where(data > 0)\n",
        "  indices_0 = np.where(data==0)\n",
        "  mx_val = -1e18\n",
        "  result_class = 0\n",
        "  for i,class_val in enumerate(cond_prob):\n",
        "    prod = np.log(prior_prob[i]) + np.sum(np.log(class_val[indices])) + np.sum(np.log(1 - class_val[indices_0]))\n",
        "    if prod >= mx_val:\n",
        "      result_class = i\n",
        "      mx_val = prod\n",
        "  return result_class"
      ],
      "metadata": {
        "id": "8YQkm0HWdhSI"
      },
      "execution_count": 11,
      "outputs": []
    },
    {
      "cell_type": "code",
      "source": [
        "preprocessed_test_text = [remove_tokens(punctuation, text) for text in newsgroups_test.data]\n",
        "test_data = vectorizer.transform(preprocessed_test_text)"
      ],
      "metadata": {
        "id": "9vBtIBscpAnE"
      },
      "execution_count": 12,
      "outputs": []
    },
    {
      "cell_type": "code",
      "source": [
        "pred = []\n",
        "from tqdm import tqdm\n",
        "for text in tqdm(test_data):\n",
        "    pred.append(find_label(text))"
      ],
      "metadata": {
        "colab": {
          "base_uri": "https://localhost:8080/"
        },
        "id": "rFYGp5Y-pGti",
        "outputId": "6c989b9d-1e58-4688-e8d1-aae73a3cfdf8"
      },
      "execution_count": 13,
      "outputs": [
        {
          "output_type": "stream",
          "name": "stderr",
          "text": [
            "7532it [01:29, 83.71it/s]\n"
          ]
        }
      ]
    },
    {
      "cell_type": "code",
      "source": [
        "from sklearn import metrics\n",
        "metrics.accuracy_score(pred, newsgroups_test.target)"
      ],
      "metadata": {
        "colab": {
          "base_uri": "https://localhost:8080/"
        },
        "id": "tklkwVqGqYYy",
        "outputId": "5da1f5ab-21a4-44e7-87f5-c4d0bf1240fb"
      },
      "execution_count": 14,
      "outputs": [
        {
          "output_type": "execute_result",
          "data": {
            "text/plain": [
              "0.7825278810408922"
            ]
          },
          "metadata": {},
          "execution_count": 14
        }
      ]
    },
    {
      "cell_type": "code",
      "source": [
        "word_label_frequency = np.zeros((len(newsgroups_train.target_names),train_data.shape[1]))\n",
        "\n",
        "for i in range(len(newsgroups_train.target)):\n",
        "  word_label_frequency[newsgroups_train.target[i]] += train_data[i]\n",
        "\n",
        "word_label_frequency\n",
        "print(word_label_frequency)"
      ],
      "metadata": {
        "colab": {
          "base_uri": "https://localhost:8080/"
        },
        "id": "xeMeE_Niqdom",
        "outputId": "b0133197-b104-4492-d6aa-d23cae907bfe"
      },
      "execution_count": 15,
      "outputs": [
        {
          "output_type": "stream",
          "name": "stdout",
          "text": [
            "[[ 0.  0.  0. ...  0.  0.  0.]\n",
            " [18.  0.  0. ... 10.  2.  1.]\n",
            " [ 4.  0.  1. ...  0.  0.  0.]\n",
            " ...\n",
            " [ 0.  4.  1. ...  0.  0.  0.]\n",
            " [ 1.  0.  0. ...  0.  0.  0.]\n",
            " [ 0.  0.  0. ...  0.  0.  0.]]\n"
          ]
        }
      ]
    },
    {
      "cell_type": "code",
      "source": [
        "num_word_in_classes = np.sum(word_label_frequency,axis=1)\n",
        "print(num_word_in_classes)"
      ],
      "metadata": {
        "colab": {
          "base_uri": "https://localhost:8080/"
        },
        "id": "9h5sH6wmqq3a",
        "outputId": "c1fc25f7-e5eb-4546-b3b9-b90c197beed5"
      },
      "execution_count": 16,
      "outputs": [
        {
          "output_type": "stream",
          "name": "stdout",
          "text": [
            "[149997. 110358.  93067. 103648.  92609. 147439.  69568. 117770. 106393.\n",
            " 115963. 152844. 203722. 107589. 155324. 155745. 203120. 178699. 255412.\n",
            " 187744. 120767.]\n"
          ]
        }
      ]
    },
    {
      "cell_type": "code",
      "source": [
        "log_cond_prob = np.array([np.log(word_label_frequency[i] + alpha) - np.log(num_word_in_classes[i] + num_word * alpha) for i in range(len(class_freq))])\n",
        "print(log_cond_prob.shape)"
      ],
      "metadata": {
        "colab": {
          "base_uri": "https://localhost:8080/"
        },
        "id": "PxoajRpPqu_9",
        "outputId": "f02f398f-97b0-4d1c-ecfb-2f86283b51f0"
      },
      "execution_count": 17,
      "outputs": [
        {
          "output_type": "stream",
          "name": "stdout",
          "text": [
            "(20, 30000)\n"
          ]
        }
      ]
    },
    {
      "cell_type": "code",
      "source": [
        "def find_label_multinom(data):\n",
        "  data = np.array(data.toarray()).flatten()\n",
        "  indices = np.where(data > 0)\n",
        "  indices_0 = np.where(data==0)\n",
        "  mx_val = -1e18\n",
        "  result_class = 0\n",
        "  for i,class_val in enumerate(log_cond_prob):\n",
        "    prod = np.log(prior_prob[i]) + np.sum(class_val[indices]) + np.sum(np.log(1 - np.exp(class_val[indices_0])))\n",
        "    if prod >= mx_val:\n",
        "      result_class = i\n",
        "      mx_val = prod\n",
        "  return result_class"
      ],
      "metadata": {
        "id": "JIgmAG12q631"
      },
      "execution_count": 18,
      "outputs": []
    },
    {
      "cell_type": "code",
      "source": [
        "pred = []\n",
        "for text in tqdm(test_data):\n",
        "    pred.append(find_label_multinom(text))\n",
        "metrics.accuracy_score(pred, newsgroups_test.target)"
      ],
      "metadata": {
        "colab": {
          "base_uri": "https://localhost:8080/"
        },
        "id": "Bj2lnp9ZrC8J",
        "outputId": "e1365fa9-067f-49a8-dbc8-f1fbf9342a01"
      },
      "execution_count": 19,
      "outputs": [
        {
          "output_type": "stream",
          "name": "stderr",
          "text": [
            "7532it [02:52, 43.56it/s]\n"
          ]
        },
        {
          "output_type": "execute_result",
          "data": {
            "text/plain": [
              "0.8203664365374402"
            ]
          },
          "metadata": {},
          "execution_count": 19
        }
      ]
    }
  ]
}